{
  "nbformat": 4,
  "nbformat_minor": 0,
  "metadata": {
    "colab": {
      "provenance": []
    },
    "kernelspec": {
      "name": "python3",
      "display_name": "Python 3"
    },
    "language_info": {
      "name": "python"
    }
  },
  "cells": [
    {
      "cell_type": "markdown",
      "source": [
        "Q1: What is Estimation Statistics? Explain point estimate and interval estimate."
      ],
      "metadata": {
        "id": "cQ5okGmmF8Lf"
      }
    },
    {
      "cell_type": "markdown",
      "source": [
        "Estimation statistics involves making inferences or predictions about population parameters based on sample data. There are two main types of estimation: point estimation and interval estimation."
      ],
      "metadata": {
        "id": "-n16MISiGIzV"
      }
    },
    {
      "cell_type": "markdown",
      "source": [
        "Q2. Write a Python function to estimate the population mean using a sample mean and standard\n",
        "deviation."
      ],
      "metadata": {
        "id": "u0VJZmbHGP89"
      }
    },
    {
      "cell_type": "code",
      "source": [
        "import numpy as np\n",
        "\n",
        "def population_mean_estimate(sample_mean, sample_std, sample_size):\n",
        "    # Calculate the standard error of the mean\n",
        "    standard_error = sample_std / np.sqrt(sample_size)\n",
        "\n",
        "    # Calculate the margin of error (using a 95% confidence interval)\n",
        "    margin_of_error = 1.96 * standard_error  # for a 95% confidence interval\n",
        "\n",
        "    # Calculate the lower and upper bounds of the confidence interval\n",
        "    lower_bound = sample_mean - margin_of_error\n",
        "    upper_bound = sample_mean + margin_of_error\n",
        "\n",
        "    # Return the interval estimate\n",
        "    return lower_bound, upper_bound"
      ],
      "metadata": {
        "id": "m_kZm1xFGVqN"
      },
      "execution_count": null,
      "outputs": []
    },
    {
      "cell_type": "markdown",
      "source": [
        "Q3: What is Hypothesis testing? Why is it used? State the importance of Hypothesis testing."
      ],
      "metadata": {
        "id": "biOQfUZ6Gav4"
      }
    },
    {
      "cell_type": "markdown",
      "source": [
        "Hypothesis testing is a statistical method used to make inferences about population parameters based on sample data. It involves setting up two competing hypotheses, the null hypothesis (H0) and the alternative hypothesis (H1), and using sample data to determine which hypothesis is more likely to be true. Hypothesis testing is used to evaluate the strength of evidence against the null hypothesis and make decisions about population parameters or the underlying data-generating process."
      ],
      "metadata": {
        "id": "eQ0NJuThGes0"
      }
    },
    {
      "cell_type": "markdown",
      "source": [
        "Q4. Create a hypothesis that states whether the average weight of male college students is greater than\n",
        "the average weight of female college students."
      ],
      "metadata": {
        "id": "jbcg0cgSGhuO"
      }
    },
    {
      "cell_type": "markdown",
      "source": [
        "Hypothesis:\n",
        "Null Hypothesis (H0): The average weight of male college students is equal to or less than the average weight of female college students.\n",
        "Alternative Hypothesis (H1): The average weight of male college students is greater than the average weight of female college students."
      ],
      "metadata": {
        "id": "s2HIYgI4GosT"
      }
    },
    {
      "cell_type": "markdown",
      "source": [
        "Q5. Write a Python script to conduct a hypothesis test on the difference between two population means,\n",
        "given a sample from each population."
      ],
      "metadata": {
        "id": "KlAhoRbuGvxA"
      }
    },
    {
      "cell_type": "code",
      "source": [
        "import numpy as np\n",
        "from scipy import stats\n",
        "\n",
        "# Sample data for male and female college students\n",
        "male_weights = np.array([70, 72, 68, 75, 71])  # Sample weights of male students\n",
        "female_weights = np.array([65, 68, 64, 70, 67])  # Sample weights of female students\n",
        "\n",
        "# Calculate sample statistics\n",
        "mean_male = np.mean(male_weights)\n",
        "mean_female = np.mean(female_weights)\n",
        "std_male = np.std(male_weights, ddof=1)  # Using Bessel's correction for sample standard deviation\n",
        "std_female = np.std(female_weights, ddof=1)\n",
        "\n",
        "# Perform independent two-sample t-test\n",
        "t_stat, p_value = stats.ttest_ind(male_weights, female_weights, equal_var=False)\n",
        "\n",
        "# Print results\n",
        "print(\"Sample mean weight of male students:\", mean_male)\n",
        "print(\"Sample mean weight of female students:\", mean_female)\n",
        "print(\"t-statistic:\", t_stat)\n",
        "print(\"p-value:\", p_value)\n",
        "\n",
        "# Check significance level\n",
        "alpha = 0.05\n",
        "if p_value < alpha:\n",
        "    print(\"Reject the null hypothesis. There is sufficient evidence to conclude that the average weight of male college students is greater than the average weight of female college students.\")\n",
        "else:\n",
        "    print(\"Fail to reject the null hypothesis. There is not sufficient evidence to conclude that the average weight of male college students is greater than the average weight of female college students.\")"
      ],
      "metadata": {
        "id": "qO67T-ZwGzIl"
      },
      "execution_count": null,
      "outputs": []
    },
    {
      "cell_type": "markdown",
      "source": [
        "Q6: What is a null and alternative hypothesis? Give some examples."
      ],
      "metadata": {
        "id": "0el6toyVG8YG"
      }
    },
    {
      "cell_type": "markdown",
      "source": [
        "Null Hypothesis (H0): The mean weight of a certain population is equal to a specified value. For example, H0: μ = 70 (the population mean weight is 70 kg).\n",
        "Alternative Hypothesis (H1): The mean weight of a certain population is not equal to a specified value. For example, H1: μ ≠ 70 (the population mean weight is not equal to 70 kg)."
      ],
      "metadata": {
        "id": "zJFIvddvHAa6"
      }
    },
    {
      "cell_type": "markdown",
      "source": [
        "Q7: Write down the steps involved in hypothesis testing."
      ],
      "metadata": {
        "id": "G1eWLjKcHJSQ"
      }
    },
    {
      "cell_type": "markdown",
      "source": [
        "Formulate Hypotheses:\n",
        "-Null Hypothesis (H0): Assumes no effect or no difference.\n",
        "Alternative Hypothesis (H1 or Ha): Assumes there is an effect or a difference.\n",
        "-Choose Significance Level (α):\n",
        "The significance level (α) determines the threshold for rejecting the null hypothesis.\n",
        "Commonly used significance levels are 0.05 (5%) and 0.01 (1%).\n",
        "-Select a Test Statistic:\n",
        "Choose a statistical test appropriate for the data and hypothesis being tested.\n",
        "Common tests include t-tests, chi-square tests, ANOVA, etc."
      ],
      "metadata": {
        "id": "GFSC1H5yHfp-"
      }
    },
    {
      "cell_type": "markdown",
      "source": [
        "Q8. Define p-value and explain its significance in hypothesis testing."
      ],
      "metadata": {
        "id": "8AtTUijiHogH"
      }
    },
    {
      "cell_type": "markdown",
      "source": [
        "The p-value is the probability of observing a test statistic as extreme as or more extreme than the one observed in the sample data, under the assumption that the null hypothesis is true. It is a measure of the strength of the evidence against the null hypothesis."
      ],
      "metadata": {
        "id": "8Ltrd77dHuGB"
      }
    },
    {
      "cell_type": "markdown",
      "source": [
        "Q9. Generate a Student's t-distribution plot using Python's matplotlib library, with the degrees of freedom\n",
        "parameter set to 10."
      ],
      "metadata": {
        "id": "qRFvfRTrHxbK"
      }
    },
    {
      "cell_type": "code",
      "source": [
        "import numpy as np\n",
        "import matplotlib.pyplot as plt\n",
        "from scipy.stats import t\n",
        "\n",
        "# Generate data points for t-distribution\n",
        "df = 10  # Degrees of freedom\n",
        "x = np.linspace(t.ppf(0.001, df), t.ppf(0.999, df), 1000)  # 99.9% confidence interval\n",
        "\n",
        "# Plot t-distribution\n",
        "plt.plot(x, t.pdf(x, df), 'r-', lw=2, label='t-distribution (df=10)')\n",
        "plt.title(\"Student's t-distribution\")\n",
        "plt.xlabel('x')\n",
        "plt.ylabel('Probability Density')\n",
        "plt.legend()\n",
        "plt.grid(True)\n",
        "plt.show()"
      ],
      "metadata": {
        "id": "CYI4tyl1H2T7"
      },
      "execution_count": null,
      "outputs": []
    },
    {
      "cell_type": "markdown",
      "source": [
        "Q10. Write a Python program to calculate the two-sample t-test for independent samples, given two\n",
        "random samples of equal size and a null hypothesis that the population means are equal."
      ],
      "metadata": {
        "id": "xk6KErtkH58Y"
      }
    },
    {
      "cell_type": "code",
      "source": [
        "import numpy as np\n",
        "from scipy.stats import ttest_ind\n",
        "\n",
        "# Generate two random samples\n",
        "sample1 = np.random.normal(loc=10, scale=2, size=100)\n",
        "sample2 = np.random.normal(loc=12, scale=2, size=100)\n",
        "\n",
        "# Perform two-sample t-test\n",
        "t_statistic, p_value = ttest_ind(sample1, sample2)\n",
        "\n",
        "# Print results\n",
        "print(\"t-statistic:\", t_statistic)\n",
        "print(\"p-value:\", p_value)\n",
        "\n",
        "# Interpret results\n",
        "alpha = 0.05  # Significance level\n",
        "if p_value < alpha:\n",
        "    print(\"Reject the null hypothesis: There is a significant difference between the population means.\")\n",
        "else:\n",
        "    print(\"Fail to reject the null hypothesis: There is no significant difference between the population means.\")"
      ],
      "metadata": {
        "id": "dpT2rrtfIJbr"
      },
      "execution_count": null,
      "outputs": []
    },
    {
      "cell_type": "markdown",
      "source": [
        "Q11: What is Student’s t distribution? When to use the t-Distribution."
      ],
      "metadata": {
        "id": "9hHc-hq6IMi3"
      }
    },
    {
      "cell_type": "markdown",
      "source": [
        "tudent’s t distribution is a probability distribution that arises when estimating the population mean of a normally distributed population with an unknown standard deviation, and the sample size is small (typically less than 30)"
      ],
      "metadata": {
        "id": "XsFPZizhIPeH"
      }
    },
    {
      "cell_type": "markdown",
      "source": [
        "Q12: What is t-statistic? State the formula for t-statistic."
      ],
      "metadata": {
        "id": "HNPuCm9FIT-B"
      }
    },
    {
      "cell_type": "markdown",
      "source": [
        "The t-statistic is a measure used in hypothesis testing to determine if there is a significant difference between the means of two groups. The formula for the t-statistic in a two-sample t-test for independent samples is:"
      ],
      "metadata": {
        "id": "sngtoyXEIXOZ"
      }
    },
    {
      "cell_type": "markdown",
      "source": [
        "Q13. A coffee shop owner wants to estimate the average daily revenue for their shop. They take a random\n",
        "sample of 50 days and find the sample mean revenue to be $500 with a standard deviation of $50.\n",
        "Estimate the population mean revenue with a 95% confidence interval."
      ],
      "metadata": {
        "id": "F7NiCv1jIaUZ"
      }
    },
    {
      "cell_type": "code",
      "source": [
        "import numpy as np\n",
        "\n",
        "# Given data\n",
        "sample_mean = 500\n",
        "sample_std = 50\n",
        "sample_size = 50\n",
        "confidence_level = 0.95\n",
        "\n",
        "# Calculate the margin of error\n",
        "z_score = 1.96  # Z-score for 95% confidence level\n",
        "margin_of_error = z_score * (sample_std / np.sqrt(sample_size))\n",
        "\n",
        "# Calculate the confidence interval\n",
        "lower_bound = sample_mean - margin_of_error\n",
        "upper_bound = sample_mean + margin_of_error\n",
        "\n",
        "print(\"95% Confidence Interval for the population mean revenue: (${:.2f}, ${:.2f})\".format(lower_bound, upper_bound))"
      ],
      "metadata": {
        "id": "w7L6RjHkIn9s"
      },
      "execution_count": null,
      "outputs": []
    },
    {
      "cell_type": "markdown",
      "source": [
        "Q14. A researcher hypothesizes that a new drug will decrease blood pressure by 10 mmHg. They conduct a\n",
        "clinical trial with 100 patients and find that the sample mean decrease in blood pressure is 8 mmHg with a\n",
        "standard deviation of 3 mmHg. Test the hypothesis with a significance level of 0.05."
      ],
      "metadata": {
        "id": "ytytxr17Irgv"
      }
    },
    {
      "cell_type": "code",
      "source": [
        "from scipy.stats import t\n",
        "\n",
        "# Given data\n",
        "sample_mean = 8  # Sample mean decrease in blood pressure\n",
        "population_mean = 10  # Hypothesized population mean decrease in blood pressure\n",
        "sample_std = 3  # Sample standard deviation\n",
        "sample_size = 100  # Sample size\n",
        "alpha = 0.05  # Significance level\n",
        "\n",
        "# Calculate the t-statistic\n",
        "t_statistic = (sample_mean - population_mean) / (sample_std / np.sqrt(sample_size))\n",
        "\n",
        "# Calculate the critical t-value\n",
        "df = sample_size - 1  # Degrees of freedom\n",
        "critical_t_value = t.ppf(1 - alpha / 2, df)\n",
        "\n",
        "# Perform the hypothesis test\n",
        "if abs(t_statistic) > critical_t_value:\n",
        "    print(\"Reject the null hypothesis: There is sufficient evidence to conclude that the new drug has an effect on blood pressure.\")\n",
        "else:\n",
        "    print(\"Fail to reject the null hypothesis: There is not enough evidence to conclude that the new drug has an effect on blood pressure.\")"
      ],
      "metadata": {
        "id": "BfbmM3x9I1ox"
      },
      "execution_count": null,
      "outputs": []
    },
    {
      "cell_type": "markdown",
      "source": [
        "Q15. An electronics company produces a certain type of product with a mean weight of 5 pounds and a\n",
        "standard deviation of 0.5 pounds. A random sample of 25 products is taken, and the sample mean weight\n",
        "is found to be 4.8 pounds. Test the hypothesis that the true mean weight of the products is less than 5\n",
        "pounds with a significance level of 0.01."
      ],
      "metadata": {
        "id": "X4m1TdqSI3Q_"
      }
    },
    {
      "cell_type": "code",
      "source": [
        "sample_mean = 4.8  # Sample mean weight of the products\n",
        "population_mean = 5  # Hypothesized population mean weight of the products\n",
        "sample_std = 0.5  # Sample standard deviation\n",
        "sample_size = 25  # Sample size\n",
        "alpha = 0.01  # Significance level\n",
        "\n",
        "# Calculate the t-statistic\n",
        "t_statistic = (sample_mean - population_mean) / (sample_std / np.sqrt(sample_size))\n",
        "\n",
        "# Calculate the critical t-value\n",
        "df = sample_size - 1  # Degrees of freedom\n",
        "critical_t_value = t.ppf(alpha, df)\n",
        "\n",
        "# Perform the hypothesis test\n",
        "if t_statistic < critical_t_value:\n",
        "    print(\"Reject the null hypothesis: There is sufficient evidence to conclude that the true mean weight of the products is less than 5 pounds.\")\n",
        "else:\n",
        "    print(\"Fail to reject the null hypothesis: There is not enough evidence to conclude that the true mean weight of the products is less than 5 pounds.\")"
      ],
      "metadata": {
        "id": "QVLihIC-I5_v"
      },
      "execution_count": null,
      "outputs": []
    },
    {
      "cell_type": "markdown",
      "source": [
        "Q16. Two groups of students are given different study materials to prepare for a test. The first group (n1 =\n",
        "30) has a mean score of 80 with a standard deviation of 10, and the second group (n2 = 40) has a mean\n",
        "score of 75 with a standard deviation of 8. Test the hypothesis that the population means for the two\n",
        "groups are equal with a significance level of 0.01."
      ],
      "metadata": {
        "id": "c13LfXR_I_U3"
      }
    },
    {
      "cell_type": "code",
      "source": [
        "# Given data for Group 1\n",
        "n1 = 30\n",
        "mean1 = 80\n",
        "std1 = 10\n",
        "\n",
        "# Given data for Group 2\n",
        "n2 = 40\n",
        "mean2 = 75\n",
        "std2 = 8\n",
        "\n",
        "# Significance level\n",
        "alpha = 0.01\n",
        "\n",
        "# Calculate the pooled standard deviation\n",
        "pooled_std = np.sqrt(((n1 - 1) * std1 ** 2 + (n2 - 1) * std2 ** 2) / (n1 + n2 - 2))\n",
        "\n",
        "# Calculate the t-statistic\n",
        "t_statistic = (mean1 - mean2) / (pooled_std * np.sqrt(1 / n1 + 1 / n2))\n",
        "\n",
        "# Calculate the degrees of freedom\n",
        "df = n1 + n2 - 2\n",
        "\n",
        "# Calculate the critical t-value\n",
        "critical_t_value = t.ppf(1 - alpha / 2, df)\n",
        "\n",
        "# Perform the hypothesis test\n",
        "if abs(t_statistic) > critical_t_value:\n",
        "    print(\"Reject the null hypothesis: There is sufficient evidence to conclude that the population means for the two groups are not equal.\")\n",
        "else:\n",
        "    print(\"Fail to reject the null hypothesis: There is not enough evidence to conclude that the population means for the two groups are not equal.\")"
      ],
      "metadata": {
        "id": "-7QXU53sJIMW"
      },
      "execution_count": null,
      "outputs": []
    },
    {
      "cell_type": "markdown",
      "source": [
        "Q17. A marketing company wants to estimate the average number of ads watched by viewers during a TV\n",
        "program. They take a random sample of 50 viewers and find that the sample mean is 4 with a standard\n",
        "deviation of 1.5. Estimate the population mean with a 99% confidence interval."
      ],
      "metadata": {
        "id": "U-g7IbsbJPss"
      }
    },
    {
      "cell_type": "code",
      "source": [
        "# Given data\n",
        "sample_mean = 4\n",
        "sample_std = 1.5\n",
        "sample_size = 50\n",
        "confidence_level = 0.99\n",
        "\n",
        "# Calculate the margin of error\n",
        "z_score = 2.576  # Z-score for 99% confidence level\n",
        "margin_of_error = z_score * (sample_std / np.sqrt(sample_size))\n",
        "\n",
        "# Calculate the confidence interval\n",
        "lower_bound = sample_mean - margin_of_error\n",
        "upper_bound = sample_mean + margin_of_error\n",
        "\n",
        "print(\"99% Confidence Interval for the population mean number of ads watched: ({:.2f}, {:.2f})\".format(lower_bound, upper_bound))"
      ],
      "metadata": {
        "id": "YFVS0IIjJTlm"
      },
      "execution_count": null,
      "outputs": []
    }
  ]
}